{
 "cells": [
  {
   "cell_type": "code",
   "execution_count": null,
   "metadata": {},
   "outputs": [],
   "source": [
    "#Introducation to for loops:- "
   ]
  },
  {
   "cell_type": "code",
   "execution_count": 20,
   "metadata": {},
   "outputs": [],
   "source": [
    "student=['zakeer','Hussain','zaabith']"
   ]
  },
  {
   "cell_type": "code",
   "execution_count": 2,
   "metadata": {},
   "outputs": [
    {
     "name": "stdout",
     "output_type": "stream",
     "text": [
      "['zakeer', 'Hussain', 'zaabith']\n"
     ]
    }
   ],
   "source": [
    "print (student)"
   ]
  },
  {
   "cell_type": "code",
   "execution_count": 3,
   "metadata": {},
   "outputs": [
    {
     "data": {
      "text/plain": [
       "list"
      ]
     },
     "execution_count": 3,
     "metadata": {},
     "output_type": "execute_result"
    }
   ],
   "source": [
    "type(student)"
   ]
  },
  {
   "cell_type": "code",
   "execution_count": 5,
   "metadata": {},
   "outputs": [
    {
     "name": "stdout",
     "output_type": "stream",
     "text": [
      " keep up the good work,Zakeer\n"
     ]
    }
   ],
   "source": [
    "print(f\" keep up the good work,{student[0].title()}\")"
   ]
  },
  {
   "cell_type": "code",
   "execution_count": null,
   "metadata": {},
   "outputs": [],
   "source": [
    "#General Syntx of a for loop\n",
    "#for tempevory varible"
   ]
  },
  {
   "cell_type": "code",
   "execution_count": 24,
   "metadata": {},
   "outputs": [
    {
     "name": "stdout",
     "output_type": "stream",
     "text": [
      " keep up gppd work, zakeer\n",
      " keep up gppd work, Hussain\n",
      " keep up gppd work, zaabith\n"
     ]
    }
   ],
   "source": [
    "for x in student:\n",
    "    print (f\" keep up gppd work, {x}\")"
   ]
  },
  {
   "cell_type": "code",
   "execution_count": 23,
   "metadata": {},
   "outputs": [
    {
     "name": "stdout",
     "output_type": "stream",
     "text": [
      " keep up gppd work, Zakeer\n",
      " keep up gppd work, Hussain\n",
      " keep up gppd work, Zaabith\n"
     ]
    }
   ],
   "source": [
    "for batman in student:\n",
    "    print (f\" keep up gppd work, {batman.title()}\")"
   ]
  },
  {
   "cell_type": "code",
   "execution_count": 26,
   "metadata": {},
   "outputs": [
    {
     "name": "stdout",
     "output_type": "stream",
     "text": [
      "keep up good work, Zakeer.\n",
      "\n",
      "keep up good work, Hussain.\n",
      "\n",
      "keep up good work, Zaabith.\n",
      "\n"
     ]
    }
   ],
   "source": [
    "for a in student:\n",
    "    print(f\"keep up good work, {a.title()}.\\n\")"
   ]
  },
  {
   "cell_type": "code",
   "execution_count": 27,
   "metadata": {},
   "outputs": [
    {
     "name": "stdout",
     "output_type": "stream",
     "text": [
      "keep up good work, Zakeer.\n",
      "\n",
      "all the best\n",
      "keep up good work, Hussain.\n",
      "\n",
      "all the best\n",
      "keep up good work, Zaabith.\n",
      "\n",
      "all the best\n"
     ]
    }
   ],
   "source": [
    "for a in student:\n",
    "    print(f\"keep up good work, {a.title()}.\\n\")\n",
    "    print (\"all the best\")"
   ]
  },
  {
   "cell_type": "code",
   "execution_count": null,
   "metadata": {},
   "outputs": [],
   "source": [
    "#Conditional statments:\n"
   ]
  }
 ],
 "metadata": {
  "kernelspec": {
   "display_name": "Python 3",
   "language": "python",
   "name": "python3"
  },
  "language_info": {
   "codemirror_mode": {
    "name": "ipython",
    "version": 3
   },
   "file_extension": ".py",
   "mimetype": "text/x-python",
   "name": "python",
   "nbconvert_exporter": "python",
   "pygments_lexer": "ipython3",
   "version": "3.8.5"
  }
 },
 "nbformat": 4,
 "nbformat_minor": 4
}
