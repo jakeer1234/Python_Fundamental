{
 "cells": [
  {
   "cell_type": "code",
   "execution_count": null,
   "metadata": {},
   "outputs": [],
   "source": [
    "# Understanding Varibles"
   ]
  },
  {
   "cell_type": "code",
   "execution_count": 4,
   "metadata": {},
   "outputs": [
    {
     "data": {
      "text/plain": [
       "8"
      ]
     },
     "execution_count": 4,
     "metadata": {},
     "output_type": "execute_result"
    }
   ],
   "source": [
    "x=3\n",
    "y=5\n",
    "x+y"
   ]
  },
  {
   "cell_type": "code",
   "execution_count": 5,
   "metadata": {},
   "outputs": [
    {
     "data": {
      "text/plain": [
       "15"
      ]
     },
     "execution_count": 5,
     "metadata": {},
     "output_type": "execute_result"
    }
   ],
   "source": [
    "x*y"
   ]
  },
  {
   "cell_type": "code",
   "execution_count": 6,
   "metadata": {},
   "outputs": [
    {
     "name": "stdout",
     "output_type": "stream",
     "text": [
      "Zakeer\n"
     ]
    }
   ],
   "source": [
    "firstname='Zakeer'\n",
    "print (firstname)"
   ]
  },
  {
   "cell_type": "code",
   "execution_count": 9,
   "metadata": {},
   "outputs": [
    {
     "name": "stdout",
     "output_type": "stream",
     "text": [
      "Zakeer\n"
     ]
    }
   ],
   "source": [
    "first_name='Zakeer'\n",
    "print (first_name)"
   ]
  },
  {
   "cell_type": "code",
   "execution_count": null,
   "metadata": {},
   "outputs": [],
   "source": [
    "Rules for declaring the variables in Python\n",
    "\n",
    "1. No name place while declaring the variables in python.\n",
    "2. A variable should not start with numbers\n",
    "3. A variables name should not contain any special characters."
   ]
  },
  {
   "cell_type": "code",
   "execution_count": null,
   "metadata": {},
   "outputs": [],
   "source": [
    "Introduction to Data types in Python\n",
    "\n",
    "1. String\n",
    "2. Numbers (Integer, floats (decimals))\n",
    "3. List\n",
    "4. Tuple data type\n",
    "5. Dictionaries"
   ]
  },
  {
   "cell_type": "code",
   "execution_count": null,
   "metadata": {},
   "outputs": [],
   "source": [
    "Classification of data type in Python.\n",
    "\n",
    " Broadly classified into 2 categories\n",
    "    \n",
    " 1. Mutable data types: which we can edit\n",
    " 2. Immutable data type: which we cannot able to edit"
   ]
  },
  {
   "cell_type": "code",
   "execution_count": null,
   "metadata": {},
   "outputs": [],
   "source": [
    "Introduction to string data type:\n",
    " \n",
    "Definition: a sting is nothing but a series of characters.\n",
    "This is enclosed in quotes.\n",
    "\n",
    "Classification: it is classified as an immutable data type (we cannot edit it).\n",
    "\n",
    " string 3 types\n",
    "\n",
    "1. Single quotes.\n",
    "2. Double quotes.\n",
    "3. Triple quotes."
   ]
  }
 ],
 "metadata": {
  "kernelspec": {
   "display_name": "Python 3",
   "language": "python",
   "name": "python3"
  },
  "language_info": {
   "codemirror_mode": {
    "name": "ipython",
    "version": 3
   },
   "file_extension": ".py",
   "mimetype": "text/x-python",
   "name": "python",
   "nbconvert_exporter": "python",
   "pygments_lexer": "ipython3",
   "version": "3.8.5"
  }
 },
 "nbformat": 4,
 "nbformat_minor": 4
}
